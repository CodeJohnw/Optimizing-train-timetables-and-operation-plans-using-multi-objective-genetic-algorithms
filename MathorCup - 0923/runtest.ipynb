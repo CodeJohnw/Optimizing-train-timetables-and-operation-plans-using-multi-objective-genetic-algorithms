{
 "cells": [
  {
   "cell_type": "code",
   "execution_count": 1,
   "metadata": {},
   "outputs": [],
   "source": [
    "import matplotlib.pyplot as plt\n",
    "from sko.GA import GA\n",
    "import pandas as pd\n",
    "import numpy as np\n"
   ]
  },
  {
   "cell_type": "code",
   "execution_count": 2,
   "metadata": {},
   "outputs": [
    {
     "name": "stdout",
     "output_type": "stream",
     "text": [
      "[(1, 5), (1, 8), (1, 10), (1, 14), (1, 17), (1, 18), (1, 21), (1, 22), (1, 25), (2, 5), (2, 8), (2, 10), (2, 14), (2, 17), (2, 18), (2, 21), (2, 22), (2, 25), (2, 26), (5, 8), (5, 10), (5, 14), (5, 17), (5, 18), (5, 21), (5, 22), (5, 25), (5, 26), (5, 27), (8, 14), (8, 17), (8, 18), (8, 21), (8, 22), (8, 25), (8, 26), (8, 27), (8, 30), (10, 14), (10, 17), (10, 18), (10, 21), (10, 22), (10, 25), (10, 26), (10, 27), (10, 30), (14, 17), (14, 18), (14, 21), (14, 22), (14, 25), (14, 26), (14, 27), (14, 30), (17, 21), (17, 22), (17, 25), (17, 26), (17, 27), (17, 30), (18, 21), (18, 22), (18, 25), (18, 26), (18, 27), (18, 30), (21, 25), (21, 26), (21, 27), (21, 30), (22, 25), (22, 26), (22, 27), (22, 30), (25, 30), (26, 30), (27, 30)]\n"
     ]
    }
   ],
   "source": [
    "\n",
    "#####################################################读取文件\n",
    "'''读取附件1车站数据，获取可作为交路起止点车站列表'''\n",
    "# 读取Excel文件\n",
    "file_path_station = '附件1：车站数据.xlsx'\n",
    "df_station = pd.read_excel(file_path_station)\n",
    "# 筛选“是”作为交路起终点的车站列表\n",
    "start_end_stations = [index + 1 for index in df_station[df_station['是否可作为交路起点/终点'] == '是'].index.tolist()]\n",
    "# 筛选“是”作为交路起终点的车站列表\n",
    "\n",
    "valid_combinations = []\n",
    "# print(start_end_stations)\n",
    "for sa in start_end_stations:\n",
    "    for sb in start_end_stations:\n",
    "        if sb - sa >= 3 and sb - sa <= 24:\n",
    "            valid_combinations.append((sa, sb))\n",
    "print(valid_combinations)"
   ]
  },
  {
   "cell_type": "code",
   "execution_count": 6,
   "metadata": {},
   "outputs": [
    {
     "name": "stdout",
     "output_type": "stream",
     "text": [
      "[0.0, 86.0, 289.0, 326.0, 2252.0, 2519.0, 2535.0, 976.0, 1432.0, 1327.0, 10230.0, 2336.0, 4311.0, 2275.0, 16179.0, 2297.0, 3454.0, 1788.0, 600.0, 1235.0, 933.0, 641.0, 23373.0, 455.0, 2311.0, 1179.0, 1386.0, 2312.0, 2333.0, 4597]\n"
     ]
    }
   ],
   "source": [
    "\n",
    "\n",
    "'''读取区间运行时间和距离数据'''\n",
    "file_path_block = '附件2：区间运行时间.xlsx'\n",
    "df_block = pd.read_excel(file_path_block)\n",
    "# 获取区间运行时间和距离数据\n",
    "next_station_time = df_block['区间运行时间/s'].tolist()\n",
    "next_station_distance = df_block['站间距/km'].tolist()\n",
    "\n",
    "'''读取附件3 OD客流数据，并计算六类乘客数量以及乘客总的等待时间'''\n",
    "file_path_OD = '附件3：OD客流数据.xlsx'\n",
    "df_OD = pd.read_excel(file_path_OD, index_col=0).fillna(0)\n",
    "# print(df_OD)\n",
    "'''读取附件4断面客流数据'''\n",
    "# 读取Excel文件\n",
    "file_path4 = '附件4：断面客流数据.xlsx'\n",
    "df4 = pd.read_excel(file_path4)\n",
    "\n",
    "# 将指定列数据转换为列表\n",
    "section_flow_data = df4.iloc[:, 1].tolist()\n",
    "# print(section_flow_data)\n",
    "# 创建一个新的数据框用于存储每个车站的上车和下车总人数\n",
    "station_totals = pd.DataFrame(index=df_OD.index, columns=[\"上车总人数\", \"下车总人数\"])\n",
    "# 计算每个车站上车和下车总人数\n",
    "for station in df_OD.index:\n",
    "    # 计算每个车站的上车总人数（出站）\n",
    "    station_board_passenger = station_totals.at[station, \"上车总人数\"] = df_OD.loc[station].sum()\n",
    "\n",
    "    # 计算每个车站的下车总人数（入站）\n",
    "    station_alight_passenger = station_totals.at[station, \"下车总人数\"] = df_OD[station].sum()\n",
    "sta_passenger_board = station_totals[ \"上车总人数\"].tolist()\n",
    "sta_passenger_alight = station_totals[ \"下车总人数\"].tolist()\n",
    "print(sta_passenger_alight)"
   ]
  }
 ],
 "metadata": {
  "kernelspec": {
   "display_name": "base",
   "language": "python",
   "name": "python3"
  },
  "language_info": {
   "codemirror_mode": {
    "name": "ipython",
    "version": 3
   },
   "file_extension": ".py",
   "mimetype": "text/x-python",
   "name": "python",
   "nbconvert_exporter": "python",
   "pygments_lexer": "ipython3",
   "version": "3.7.0"
  },
  "orig_nbformat": 4
 },
 "nbformat": 4,
 "nbformat_minor": 2
}
